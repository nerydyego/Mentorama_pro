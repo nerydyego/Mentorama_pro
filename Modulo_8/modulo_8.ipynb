{
 "cells": [
  {
   "cell_type": "code",
   "execution_count": 1,
   "metadata": {},
   "outputs": [],
   "source": [
    "from troposphere import ec2, Template"
   ]
  },
  {
   "cell_type": "code",
   "execution_count": 3,
   "metadata": {},
   "outputs": [
    {
     "data": {
      "text/plain": [
       "<troposphere.ec2.Instance at 0x1630ac7b650>"
      ]
     },
     "execution_count": 3,
     "metadata": {},
     "output_type": "execute_result"
    }
   ],
   "source": [
    "template = Template()\n",
    "\n",
    "instancia = ec2.Instance(\n",
    "    \"pythonproserverAWS\", \n",
    "    ImageId=\"ami-09d9029d9fc5e5238\", \n",
    "    InstanceType=\"t2.micro\"\n",
    ")\n",
    "# Windows Serve\n",
    "instancia2 = ec2.Instance(\n",
    "    \"pythonproserverWindows\", \n",
    "    ImageId=\"ami-00744e52917f35c39\", \n",
    "    InstanceType=\"t2.nano\"\n",
    ")\n",
    "instancia3 = ec2.Instance(\n",
    "    \"pythonproserver\", \n",
    "    ImageId=\"ami-024e6efaf93d85776\", \n",
    "    InstanceType=\"t2.small\"\n",
    ")\n",
    "\n",
    "template.add_resource(instancia)\n",
    "template.add_resource(instancia2)\n",
    "template.add_resource(instancia3)\n"
   ]
  },
  {
   "cell_type": "code",
   "execution_count": 4,
   "metadata": {},
   "outputs": [
    {
     "name": "stdout",
     "output_type": "stream",
     "text": [
      "('Resources:\\n'\n",
      " '  pythonproserver:\\n'\n",
      " '    Properties:\\n'\n",
      " '      ImageId: ami-024e6efaf93d85776\\n'\n",
      " '      InstanceType: t2.small\\n'\n",
      " '    Type: AWS::EC2::Instance\\n'\n",
      " '  pythonproserverAWS:\\n'\n",
      " '    Properties:\\n'\n",
      " '      ImageId: ami-09d9029d9fc5e5238\\n'\n",
      " '      InstanceType: t2.micro\\n'\n",
      " '    Type: AWS::EC2::Instance\\n'\n",
      " '  pythonproserverWindows:\\n'\n",
      " '    Properties:\\n'\n",
      " '      ImageId: ami-00744e52917f35c39\\n'\n",
      " '      InstanceType: t2.nano\\n'\n",
      " '    Type: AWS::EC2::Instance\\n')\n"
     ]
    }
   ],
   "source": [
    "from pprint import pprint\n",
    "\n",
    "pprint(template.to_yaml())\n"
   ]
  }
 ],
 "metadata": {
  "kernelspec": {
   "display_name": "Modulo_6",
   "language": "python",
   "name": "python3"
  },
  "language_info": {
   "codemirror_mode": {
    "name": "ipython",
    "version": 3
   },
   "file_extension": ".py",
   "mimetype": "text/x-python",
   "name": "python",
   "nbconvert_exporter": "python",
   "pygments_lexer": "ipython3",
   "version": "3.11.4"
  }
 },
 "nbformat": 4,
 "nbformat_minor": 2
}
