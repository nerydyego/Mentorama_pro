{
 "cells": [
  {
   "cell_type": "code",
   "execution_count": null,
   "metadata": {},
   "outputs": [],
   "source": [
    "from troposphere import ec2, Template"
   ]
  },
  {
   "cell_type": "code",
   "execution_count": null,
   "metadata": {},
   "outputs": [],
   "source": [
    "template = Template()\n",
    "\n",
    "instancia = ec2.Instance(\n",
    "    \"pythonproserverAWS\", \n",
    "    ImageId=\"ami-09d9029d9fc5e5238\", \n",
    "    InstanceType=\"t2.micro\"\n",
    ")\n",
    "# Windows Serve\n",
    "instancia2 = ec2.Instance(\n",
    "    \"pythonproserverWindows\", \n",
    "    ImageId=\"ami-00744e52917f35c39\", \n",
    "    InstanceType=\"t2.nano\"\n",
    ")\n",
    "instancia3 = ec2.Instance(\n",
    "    \"pythonproserver\", \n",
    "    ImageId=\"ami-024e6efaf93d85776\", \n",
    "    InstanceType=\"t2.small\"\n",
    ")\n",
    "\n",
    "template.add_resource(instancia)"
   ]
  }
 ],
 "metadata": {
  "kernelspec": {
   "display_name": "Modulo_6",
   "language": "python",
   "name": "python3"
  },
  "language_info": {
   "name": "python",
   "version": "3.11.4"
  }
 },
 "nbformat": 4,
 "nbformat_minor": 2
}
