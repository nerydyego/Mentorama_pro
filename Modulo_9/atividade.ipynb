{
 "cells": [
  {
   "cell_type": "code",
   "execution_count": null,
   "metadata": {},
   "outputs": [],
   "source": [
    "import requests\n",
    "import concurrent.futures\n",
    "from bs4 import BeautifulSoup\n",
    "\n",
    "def fetch_hacker_news(page):\n",
    "    url = f'https://news.ycombinator.com/news?p={page}'\n",
    "    response = requests.get(url)\n",
    "    return response.text, url \n",
    "\n",
    "def parse_hacker_news(html_url_tuple):\n",
    "    html, url = html_url_tuple \n",
    "    soup = BeautifulSoup(html, 'html.parser')\n",
    "    titulos = soup.find_all('a', class_='storylink')\n",
    "    noticias_data = []\n",
    "    for titulo in titulos:\n",
    "        noticias_data.append({'titulo': titulo.text, 'url': titulo['href']})\n",
    "    return url, noticias_data\n",
    "\n",
    "def main_concurrent():\n",
    "    pages = range(1, 11)\n",
    "    with concurrent.futures.ThreadPoolExecutor() as executor:\n",
    "        html_url_tuples = list(executor.map(fetch_hacker_news, pages))\n",
    "    results = [parse_hacker_news(html_url_tuple) for html_url_tuple in html_url_tuples]\n",
    "    for url, noticias_data in results:\n",
    "        print(f'Paginas: {url}')\n",
    "        for i, noticias in enumerate(noticias_data, 1):\n",
    "            print(f'{i}. Titulo: {noticias[\"titulo\"]}, URL: {noticias[\"url\"]}')\n",
    "\n",
    "if __name__ == '__main__':\n",
    "    main_concurrent()\n",
    "\n"
   ]
  },
  {
   "cell_type": "code",
   "execution_count": null,
   "metadata": {},
   "outputs": [],
   "source": [
    "import requests\n",
    "import concurrent.futures\n",
    "\n",
    "def fetch_reddit_subreddit(subreddit):\n",
    "    url = f'https://www.reddit.com/r/{subreddit}/'\n",
    "    response = requests.get(url, headers={'User-Agent': 'Mozilla/5.0'})\n",
    "    return response.text\n",
    "\n",
    "def main_parallel():\n",
    "    #subreddits = ['python', 'learnprogramming', 'programming', 'datascience', 'MachineLearning', 'opensource']\n",
    "    subreddits = ['To protest in front of a bus']\n",
    "    with concurrent.futures.ProcessPoolExecutor() as executor:\n",
    "        subreddit_html = list(executor.map(fetch_reddit_subreddit, subreddits))\n",
    "    for subreddit, html in zip(subreddits, subreddit_html):\n",
    "        print(f'Subreddit: r/{subreddit}')\n",
    "        print(f'HTML Length: {len(html)}\\n')\n",
    "\n",
    "if __name__ == '__main__':\n",
    "    main_parallel()\n"
   ]
  }
 ],
 "metadata": {
  "kernelspec": {
   "display_name": "Modulo_6",
   "language": "python",
   "name": "python3"
  },
  "language_info": {
   "codemirror_mode": {
    "name": "ipython",
    "version": 3
   },
   "file_extension": ".py",
   "mimetype": "text/x-python",
   "name": "python",
   "nbconvert_exporter": "python",
   "pygments_lexer": "ipython3",
   "version": "3.11.4"
  }
 },
 "nbformat": 4,
 "nbformat_minor": 2
}
